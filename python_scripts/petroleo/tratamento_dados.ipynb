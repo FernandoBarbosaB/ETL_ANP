{
 "cells": [
  {
   "attachments": {},
   "cell_type": "markdown",
   "metadata": {},
   "source": [
    "### Importação das bibliotecas"
   ]
  },
  {
   "cell_type": "code",
   "execution_count": 1,
   "metadata": {},
   "outputs": [],
   "source": [
    "import pandas as pd\n",
    "import numpy as np\n",
    "\n",
    "import sqlalchemy\n",
    "from urllib.parse import quote_plus\n",
    "from sqlalchemy import create_engine, text\n",
    "from sqlalchemy.engine.base import Connection\n",
    "from sqlalchemy.engine import URL\n",
    "from datetime import date, datetime"
   ]
  },
  {
   "attachments": {},
   "cell_type": "markdown",
   "metadata": {},
   "source": [
    "### Conexão com o Banco"
   ]
  },
  {
   "cell_type": "code",
   "execution_count": 2,
   "metadata": {},
   "outputs": [],
   "source": [
    "def conn_bd():\n",
    "\n",
    "    # pyodbc stuff for MS SQL Server Express\n",
    "    driver='{ODBC Driver 17 for SQL Server}'\n",
    "    server='DESKTOP-LG9U8DH'\n",
    "    database='Raizen'\n",
    "    trusted_connection='yes'\n",
    "\n",
    "    # pyodbc connection string\n",
    "    connection_string = f'DRIVER={driver};SERVER={server};\\\n",
    "                          DATABASE={database};\\\n",
    "                          ;\\ TRUSTED_CONNECTION={trusted_connection}'\n",
    "    \n",
    "    connection_string += f'DATABASE={database};'\n",
    "    connection_string += f'TRUSTED_CONNECTION={trusted_connection}'\n",
    "\n",
    "\n",
    "\n",
    "    try:\n",
    "    # create sqlalchemy engine connection URL\n",
    "        connection_url = URL.create(\"mssql+pyodbc\", query={\"odbc_connect\": connection_string})\n",
    "        engine = sqlalchemy.create_engine(connection_url)\n",
    "        print(\"Conexao realizada!\")\n",
    "    except Exception as error:\n",
    "        error = str(error)\n",
    "        print(\"Conexao não realizada! \" + error)\n",
    "\n",
    "\n",
    "    \n",
    "    return engine"
   ]
  },
  {
   "attachments": {},
   "cell_type": "markdown",
   "metadata": {},
   "source": [
    "### Lendo os dados brutos do schema Stage"
   ]
  },
  {
   "cell_type": "code",
   "execution_count": 3,
   "metadata": {},
   "outputs": [
    {
     "name": "stdout",
     "output_type": "stream",
     "text": [
      "Conexao realizada!\n"
     ]
    }
   ],
   "source": [
    "engine = conn_bd()\n",
    "\n",
    "query = 'SELECT * FROM [Stage].[derivados_petroleo]'\n",
    "df_stage = pd.read_sql(text(query), engine.connect())"
   ]
  },
  {
   "attachments": {},
   "cell_type": "markdown",
   "metadata": {},
   "source": [
    "### Exploração dos dados"
   ]
  },
  {
   "cell_type": "code",
   "execution_count": 4,
   "metadata": {},
   "outputs": [
    {
     "data": {
      "text/plain": [
       "(4968, 18)"
      ]
     },
     "execution_count": 4,
     "metadata": {},
     "output_type": "execute_result"
    }
   ],
   "source": [
    "df_stage.shape"
   ]
  },
  {
   "cell_type": "code",
   "execution_count": 5,
   "metadata": {},
   "outputs": [
    {
     "data": {
      "text/html": [
       "<div>\n",
       "<style scoped>\n",
       "    .dataframe tbody tr th:only-of-type {\n",
       "        vertical-align: middle;\n",
       "    }\n",
       "\n",
       "    .dataframe tbody tr th {\n",
       "        vertical-align: top;\n",
       "    }\n",
       "\n",
       "    .dataframe thead th {\n",
       "        text-align: right;\n",
       "    }\n",
       "</style>\n",
       "<table border=\"1\" class=\"dataframe\">\n",
       "  <thead>\n",
       "    <tr style=\"text-align: right;\">\n",
       "      <th></th>\n",
       "      <th>COMBUSTÍVEL</th>\n",
       "      <th>ANO</th>\n",
       "      <th>REGIÃO</th>\n",
       "      <th>ESTADO</th>\n",
       "      <th>UNIDADE</th>\n",
       "      <th>Jan</th>\n",
       "      <th>Fev</th>\n",
       "      <th>Mar</th>\n",
       "      <th>Abr</th>\n",
       "      <th>Mai</th>\n",
       "      <th>Jun</th>\n",
       "      <th>Jul</th>\n",
       "      <th>Ago</th>\n",
       "      <th>Set</th>\n",
       "      <th>Out</th>\n",
       "      <th>Nov</th>\n",
       "      <th>Dez</th>\n",
       "      <th>TOTAL</th>\n",
       "    </tr>\n",
       "  </thead>\n",
       "  <tbody>\n",
       "    <tr>\n",
       "      <th>2898</th>\n",
       "      <td>ÓLEO COMBUSTÍVEL (m3)</td>\n",
       "      <td>2017</td>\n",
       "      <td>REGIÃO NORTE</td>\n",
       "      <td>PARÁ</td>\n",
       "      <td>m3</td>\n",
       "      <td>75121.312</td>\n",
       "      <td>62377.275</td>\n",
       "      <td>79561.349</td>\n",
       "      <td>77845.494</td>\n",
       "      <td>68735.727</td>\n",
       "      <td>68554.140</td>\n",
       "      <td>78117.233</td>\n",
       "      <td>82128.812</td>\n",
       "      <td>72309.391</td>\n",
       "      <td>79397.393</td>\n",
       "      <td>75107.010</td>\n",
       "      <td>71284.835</td>\n",
       "      <td>890539.971</td>\n",
       "    </tr>\n",
       "    <tr>\n",
       "      <th>2795</th>\n",
       "      <td>ÓLEO DIESEL (m3)</td>\n",
       "      <td>2004</td>\n",
       "      <td>REGIÃO NORTE</td>\n",
       "      <td>PARÁ</td>\n",
       "      <td>m3</td>\n",
       "      <td>96763.712</td>\n",
       "      <td>81498.983</td>\n",
       "      <td>93777.040</td>\n",
       "      <td>94440.449</td>\n",
       "      <td>100240.900</td>\n",
       "      <td>105791.157</td>\n",
       "      <td>113539.667</td>\n",
       "      <td>119564.459</td>\n",
       "      <td>126678.779</td>\n",
       "      <td>118302.472</td>\n",
       "      <td>124360.664</td>\n",
       "      <td>122328.897</td>\n",
       "      <td>1297287.179</td>\n",
       "    </tr>\n",
       "    <tr>\n",
       "      <th>4951</th>\n",
       "      <td>GASOLINA C (m3)</td>\n",
       "      <td>2020</td>\n",
       "      <td>REGIÃO NORTE</td>\n",
       "      <td>TOCANTINS</td>\n",
       "      <td>m3</td>\n",
       "      <td>29724.050</td>\n",
       "      <td>28147.870</td>\n",
       "      <td>26681.110</td>\n",
       "      <td>25667.500</td>\n",
       "      <td>24923.540</td>\n",
       "      <td>27391.885</td>\n",
       "      <td>30991.990</td>\n",
       "      <td>28500.950</td>\n",
       "      <td>30233.690</td>\n",
       "      <td>32556.270</td>\n",
       "      <td>31717.360</td>\n",
       "      <td>36449.880</td>\n",
       "      <td>352986.095</td>\n",
       "    </tr>\n",
       "    <tr>\n",
       "      <th>4012</th>\n",
       "      <td>QUEROSENE DE AVIAÇÃO (m3)</td>\n",
       "      <td>2018</td>\n",
       "      <td>REGIÃO NORTE</td>\n",
       "      <td>RONDÔNIA</td>\n",
       "      <td>m3</td>\n",
       "      <td>2186.582</td>\n",
       "      <td>1749.800</td>\n",
       "      <td>1899.716</td>\n",
       "      <td>1855.146</td>\n",
       "      <td>2225.414</td>\n",
       "      <td>1952.340</td>\n",
       "      <td>2340.537</td>\n",
       "      <td>2112.747</td>\n",
       "      <td>2135.103</td>\n",
       "      <td>2129.736</td>\n",
       "      <td>2169.214</td>\n",
       "      <td>2239.604</td>\n",
       "      <td>24995.939</td>\n",
       "    </tr>\n",
       "  </tbody>\n",
       "</table>\n",
       "</div>"
      ],
      "text/plain": [
       "                    COMBUSTÍVEL   ANO        REGIÃO     ESTADO UNIDADE  \\\n",
       "2898      ÓLEO COMBUSTÍVEL (m3)  2017  REGIÃO NORTE       PARÁ      m3   \n",
       "2795           ÓLEO DIESEL (m3)  2004  REGIÃO NORTE       PARÁ      m3   \n",
       "4951            GASOLINA C (m3)  2020  REGIÃO NORTE  TOCANTINS      m3   \n",
       "4012  QUEROSENE DE AVIAÇÃO (m3)  2018  REGIÃO NORTE   RONDÔNIA      m3   \n",
       "\n",
       "            Jan        Fev        Mar        Abr         Mai         Jun  \\\n",
       "2898  75121.312  62377.275  79561.349  77845.494   68735.727   68554.140   \n",
       "2795  96763.712  81498.983  93777.040  94440.449  100240.900  105791.157   \n",
       "4951  29724.050  28147.870  26681.110  25667.500   24923.540   27391.885   \n",
       "4012   2186.582   1749.800   1899.716   1855.146    2225.414    1952.340   \n",
       "\n",
       "             Jul         Ago         Set         Out         Nov         Dez  \\\n",
       "2898   78117.233   82128.812   72309.391   79397.393   75107.010   71284.835   \n",
       "2795  113539.667  119564.459  126678.779  118302.472  124360.664  122328.897   \n",
       "4951   30991.990   28500.950   30233.690   32556.270   31717.360   36449.880   \n",
       "4012    2340.537    2112.747    2135.103    2129.736    2169.214    2239.604   \n",
       "\n",
       "            TOTAL  \n",
       "2898   890539.971  \n",
       "2795  1297287.179  \n",
       "4951   352986.095  \n",
       "4012    24995.939  "
      ]
     },
     "execution_count": 5,
     "metadata": {},
     "output_type": "execute_result"
    }
   ],
   "source": [
    "df_stage.sample(4)"
   ]
  },
  {
   "cell_type": "code",
   "execution_count": 6,
   "metadata": {},
   "outputs": [
    {
     "data": {
      "text/plain": [
       "COMBUSTÍVEL     object\n",
       "ANO              int64\n",
       "REGIÃO          object\n",
       "ESTADO          object\n",
       "UNIDADE         object\n",
       "Jan            float64\n",
       "Fev            float64\n",
       "Mar            float64\n",
       "Abr            float64\n",
       "Mai            float64\n",
       "Jun            float64\n",
       "Jul            float64\n",
       "Ago            float64\n",
       "Set            float64\n",
       "Out            float64\n",
       "Nov            float64\n",
       "Dez            float64\n",
       "TOTAL          float64\n",
       "dtype: object"
      ]
     },
     "execution_count": 6,
     "metadata": {},
     "output_type": "execute_result"
    }
   ],
   "source": [
    "df_stage.dtypes"
   ]
  },
  {
   "attachments": {},
   "cell_type": "markdown",
   "metadata": {},
   "source": [
    "### Criando a estrutura para o novo dataframe"
   ]
  },
  {
   "attachments": {},
   "cell_type": "markdown",
   "metadata": {},
   "source": [
    "vars auxiliares para a organização dos dados"
   ]
  },
  {
   "cell_type": "code",
   "execution_count": 14,
   "metadata": {},
   "outputs": [],
   "source": [
    "anos = [f'{ano}' for ano in range(2000, 2023)]\n",
    "\n",
    "meses = ['Jan', 'Fev', 'Mar', 'Abr', 'Mai', 'Jun', 'Jul', 'Ago', 'Set', 'Out', 'Nov', 'Dez' ]\n",
    "\n",
    "\n",
    "for ano in anos:\n",
    "    globals()[f'data_{ano}'] = [f'{ano}-{mes}-01' for mes in range(1, 13)]\n",
    "\n",
    "anos_dict = {ano: globals().get(f\"data_{ano}\") for ano in anos}\n",
    "\n"
   ]
  },
  {
   "cell_type": "code",
   "execution_count": 6,
   "metadata": {},
   "outputs": [],
   "source": [
    "df_final =  pd.DataFrame({})"
   ]
  },
  {
   "cell_type": "code",
   "execution_count": 7,
   "metadata": {},
   "outputs": [
    {
     "data": {
      "text/plain": [
       "(0, 0)"
      ]
     },
     "execution_count": 7,
     "metadata": {},
     "output_type": "execute_result"
    }
   ],
   "source": [
    "df_final.shape"
   ]
  },
  {
   "attachments": {},
   "cell_type": "markdown",
   "metadata": {},
   "source": [
    "Função para criar novo dataframe"
   ]
  },
  {
   "cell_type": "code",
   "execution_count": 16,
   "metadata": {},
   "outputs": [],
   "source": [
    "def criar_df_final(var_data, mes, df):\n",
    "    var_data = var_data\n",
    "    var_value = df.loc[index, mes]\n",
    "    var_uf = df.loc[index, 'ESTADO']\n",
    "    var_product = df.loc[index, 'COMBUSTÍVEL']\n",
    "    d = {'year_month':var_data,'uf': var_uf,'product': var_product,'unit': 'm3','volume': var_value,'created_at': datetime.now()}\n",
    "    linha = pd.DataFrame(data=d, index=[0])\n",
    "    df = pd.DataFrame({})\n",
    "    df = pd.concat([df, linha], ignore_index=True)\n",
    "    return df"
   ]
  },
  {
   "cell_type": "code",
   "execution_count": 18,
   "metadata": {},
   "outputs": [],
   "source": [
    "for index, row in df_stage.iterrows():\n",
    "    \n",
    "    for ano in anos:\n",
    "\n",
    "        if df_stage.loc[index, 'ANO'] == int(ano):   \n",
    "            for i, mes in enumerate(meses):\n",
    "                df_final = pd.concat([df_final, criar_df_final(anos_dict[(ano)][i], mes, df_stage)], ignore_index=True)\n",
    "    "
   ]
  },
  {
   "cell_type": "code",
   "execution_count": 19,
   "metadata": {},
   "outputs": [
    {
     "data": {
      "text/plain": [
       "(59616, 6)"
      ]
     },
     "execution_count": 19,
     "metadata": {},
     "output_type": "execute_result"
    }
   ],
   "source": [
    "df_final.shape"
   ]
  },
  {
   "cell_type": "code",
   "execution_count": 15,
   "metadata": {},
   "outputs": [
    {
     "data": {
      "text/plain": [
       "year_month            object\n",
       "uf                    object\n",
       "product               object\n",
       "unit                  object\n",
       "volume               float64\n",
       "created_at    datetime64[ns]\n",
       "dtype: object"
      ]
     },
     "execution_count": 15,
     "metadata": {},
     "output_type": "execute_result"
    }
   ],
   "source": [
    "df_final.dtypes"
   ]
  },
  {
   "cell_type": "code",
   "execution_count": 24,
   "metadata": {},
   "outputs": [
    {
     "data": {
      "text/html": [
       "<div>\n",
       "<style scoped>\n",
       "    .dataframe tbody tr th:only-of-type {\n",
       "        vertical-align: middle;\n",
       "    }\n",
       "\n",
       "    .dataframe tbody tr th {\n",
       "        vertical-align: top;\n",
       "    }\n",
       "\n",
       "    .dataframe thead th {\n",
       "        text-align: right;\n",
       "    }\n",
       "</style>\n",
       "<table border=\"1\" class=\"dataframe\">\n",
       "  <thead>\n",
       "    <tr style=\"text-align: right;\">\n",
       "      <th></th>\n",
       "      <th>year_month</th>\n",
       "      <th>uf</th>\n",
       "      <th>product</th>\n",
       "      <th>unit</th>\n",
       "      <th>volume</th>\n",
       "      <th>created_at</th>\n",
       "    </tr>\n",
       "  </thead>\n",
       "  <tbody>\n",
       "    <tr>\n",
       "      <th>5540</th>\n",
       "      <td>2011-9-01</td>\n",
       "      <td>AMAPÁ</td>\n",
       "      <td>QUEROSENE ILUMINANTE (m3)</td>\n",
       "      <td>m3</td>\n",
       "      <td>0.000000</td>\n",
       "      <td>2023-03-29 06:00:21.289016</td>\n",
       "    </tr>\n",
       "    <tr>\n",
       "      <th>39162</th>\n",
       "      <td>2016-7-01</td>\n",
       "      <td>PIAUÍ</td>\n",
       "      <td>GASOLINA C (m3)</td>\n",
       "      <td>m3</td>\n",
       "      <td>50179.220000</td>\n",
       "      <td>2023-03-29 06:01:03.705000</td>\n",
       "    </tr>\n",
       "    <tr>\n",
       "      <th>33219</th>\n",
       "      <td>2001-4-01</td>\n",
       "      <td>PARÁ</td>\n",
       "      <td>GLP (m3)</td>\n",
       "      <td>m3</td>\n",
       "      <td>21336.665455</td>\n",
       "      <td>2023-03-29 06:00:53.043360</td>\n",
       "    </tr>\n",
       "    <tr>\n",
       "      <th>46022</th>\n",
       "      <td>2019-3-01</td>\n",
       "      <td>RIO GRANDE DO SUL</td>\n",
       "      <td>ÓLEO DIESEL (m3)</td>\n",
       "      <td>m3</td>\n",
       "      <td>355112.017000</td>\n",
       "      <td>2023-03-29 06:01:17.348721</td>\n",
       "    </tr>\n",
       "    <tr>\n",
       "      <th>25497</th>\n",
       "      <td>2012-10-01</td>\n",
       "      <td>MATO GROSSO DO SUL</td>\n",
       "      <td>QUEROSENE DE AVIAÇÃO (m3)</td>\n",
       "      <td>m3</td>\n",
       "      <td>3867.545000</td>\n",
       "      <td>2023-03-29 06:00:42.365798</td>\n",
       "    </tr>\n",
       "    <tr>\n",
       "      <th>43740</th>\n",
       "      <td>2018-1-01</td>\n",
       "      <td>RIO GRANDE DO NORTE</td>\n",
       "      <td>QUEROSENE ILUMINANTE (m3)</td>\n",
       "      <td>m3</td>\n",
       "      <td>0.000000</td>\n",
       "      <td>2023-03-29 06:01:12.685922</td>\n",
       "    </tr>\n",
       "    <tr>\n",
       "      <th>1129</th>\n",
       "      <td>2011-2-01</td>\n",
       "      <td>ACRE</td>\n",
       "      <td>GASOLINA DE AVIAÇÃO (m3)</td>\n",
       "      <td>m3</td>\n",
       "      <td>45.054039</td>\n",
       "      <td>2023-03-29 06:00:17.588482</td>\n",
       "    </tr>\n",
       "    <tr>\n",
       "      <th>18749</th>\n",
       "      <td>2011-6-01</td>\n",
       "      <td>GOIÁS</td>\n",
       "      <td>ÓLEO COMBUSTÍVEL (m3)</td>\n",
       "      <td>m3</td>\n",
       "      <td>23667.910000</td>\n",
       "      <td>2023-03-29 06:00:34.425800</td>\n",
       "    </tr>\n",
       "    <tr>\n",
       "      <th>22251</th>\n",
       "      <td>2001-4-01</td>\n",
       "      <td>MATO GROSSO</td>\n",
       "      <td>GASOLINA DE AVIAÇÃO (m3)</td>\n",
       "      <td>m3</td>\n",
       "      <td>703.006000</td>\n",
       "      <td>2023-03-29 06:00:38.431666</td>\n",
       "    </tr>\n",
       "    <tr>\n",
       "      <th>11378</th>\n",
       "      <td>2003-3-01</td>\n",
       "      <td>CEARÁ</td>\n",
       "      <td>QUEROSENE DE AVIAÇÃO (m3)</td>\n",
       "      <td>m3</td>\n",
       "      <td>6891.321000</td>\n",
       "      <td>2023-03-29 06:00:26.724245</td>\n",
       "    </tr>\n",
       "  </tbody>\n",
       "</table>\n",
       "</div>"
      ],
      "text/plain": [
       "       year_month                   uf                    product unit  \\\n",
       "5540    2011-9-01                AMAPÁ  QUEROSENE ILUMINANTE (m3)   m3   \n",
       "39162   2016-7-01                PIAUÍ            GASOLINA C (m3)   m3   \n",
       "33219   2001-4-01                 PARÁ                   GLP (m3)   m3   \n",
       "46022   2019-3-01    RIO GRANDE DO SUL           ÓLEO DIESEL (m3)   m3   \n",
       "25497  2012-10-01   MATO GROSSO DO SUL  QUEROSENE DE AVIAÇÃO (m3)   m3   \n",
       "43740   2018-1-01  RIO GRANDE DO NORTE  QUEROSENE ILUMINANTE (m3)   m3   \n",
       "1129    2011-2-01                 ACRE   GASOLINA DE AVIAÇÃO (m3)   m3   \n",
       "18749   2011-6-01                GOIÁS      ÓLEO COMBUSTÍVEL (m3)   m3   \n",
       "22251   2001-4-01          MATO GROSSO   GASOLINA DE AVIAÇÃO (m3)   m3   \n",
       "11378   2003-3-01                CEARÁ  QUEROSENE DE AVIAÇÃO (m3)   m3   \n",
       "\n",
       "              volume                 created_at  \n",
       "5540        0.000000 2023-03-29 06:00:21.289016  \n",
       "39162   50179.220000 2023-03-29 06:01:03.705000  \n",
       "33219   21336.665455 2023-03-29 06:00:53.043360  \n",
       "46022  355112.017000 2023-03-29 06:01:17.348721  \n",
       "25497    3867.545000 2023-03-29 06:00:42.365798  \n",
       "43740       0.000000 2023-03-29 06:01:12.685922  \n",
       "1129       45.054039 2023-03-29 06:00:17.588482  \n",
       "18749   23667.910000 2023-03-29 06:00:34.425800  \n",
       "22251     703.006000 2023-03-29 06:00:38.431666  \n",
       "11378    6891.321000 2023-03-29 06:00:26.724245  "
      ]
     },
     "execution_count": 24,
     "metadata": {},
     "output_type": "execute_result"
    }
   ],
   "source": [
    "df_final.sample(10)"
   ]
  },
  {
   "cell_type": "code",
   "execution_count": 16,
   "metadata": {},
   "outputs": [],
   "source": [
    "df_final = df_final.sort_values(by=['uf', 'year_month'], ascending=True)"
   ]
  },
  {
   "cell_type": "code",
   "execution_count": 18,
   "metadata": {},
   "outputs": [
    {
     "data": {
      "text/html": [
       "<div>\n",
       "<style scoped>\n",
       "    .dataframe tbody tr th:only-of-type {\n",
       "        vertical-align: middle;\n",
       "    }\n",
       "\n",
       "    .dataframe tbody tr th {\n",
       "        vertical-align: top;\n",
       "    }\n",
       "\n",
       "    .dataframe thead th {\n",
       "        text-align: right;\n",
       "    }\n",
       "</style>\n",
       "<table border=\"1\" class=\"dataframe\">\n",
       "  <thead>\n",
       "    <tr style=\"text-align: right;\">\n",
       "      <th></th>\n",
       "      <th>year_month</th>\n",
       "      <th>uf</th>\n",
       "      <th>product</th>\n",
       "      <th>unit</th>\n",
       "      <th>volume</th>\n",
       "      <th>created_at</th>\n",
       "    </tr>\n",
       "  </thead>\n",
       "  <tbody>\n",
       "    <tr>\n",
       "      <th>0</th>\n",
       "      <td>2000-1-01</td>\n",
       "      <td>ACRE</td>\n",
       "      <td>GASOLINA C (m3)</td>\n",
       "      <td>m3</td>\n",
       "      <td>3065.758000</td>\n",
       "      <td>2023-03-26 10:47:25.897913</td>\n",
       "    </tr>\n",
       "    <tr>\n",
       "      <th>12</th>\n",
       "      <td>2000-1-01</td>\n",
       "      <td>ACRE</td>\n",
       "      <td>GASOLINA DE AVIAÇÃO (m3)</td>\n",
       "      <td>m3</td>\n",
       "      <td>45.450000</td>\n",
       "      <td>2023-03-26 10:47:25.917020</td>\n",
       "    </tr>\n",
       "    <tr>\n",
       "      <th>24</th>\n",
       "      <td>2000-1-01</td>\n",
       "      <td>ACRE</td>\n",
       "      <td>QUEROSENE ILUMINANTE (m3)</td>\n",
       "      <td>m3</td>\n",
       "      <td>0.000000</td>\n",
       "      <td>2023-03-26 10:47:25.927051</td>\n",
       "    </tr>\n",
       "    <tr>\n",
       "      <th>36</th>\n",
       "      <td>2000-1-01</td>\n",
       "      <td>ACRE</td>\n",
       "      <td>QUEROSENE DE AVIAÇÃO (m3)</td>\n",
       "      <td>m3</td>\n",
       "      <td>1154.561000</td>\n",
       "      <td>2023-03-26 10:47:25.939560</td>\n",
       "    </tr>\n",
       "    <tr>\n",
       "      <th>48</th>\n",
       "      <td>2000-1-01</td>\n",
       "      <td>ACRE</td>\n",
       "      <td>ÓLEO DIESEL (m3)</td>\n",
       "      <td>m3</td>\n",
       "      <td>18025.337000</td>\n",
       "      <td>2023-03-26 10:47:25.949929</td>\n",
       "    </tr>\n",
       "    <tr>\n",
       "      <th>60</th>\n",
       "      <td>2000-1-01</td>\n",
       "      <td>ACRE</td>\n",
       "      <td>ÓLEO COMBUSTÍVEL (m3)</td>\n",
       "      <td>m3</td>\n",
       "      <td>0.000000</td>\n",
       "      <td>2023-03-26 10:47:25.959010</td>\n",
       "    </tr>\n",
       "    <tr>\n",
       "      <th>72</th>\n",
       "      <td>2000-1-01</td>\n",
       "      <td>ACRE</td>\n",
       "      <td>ETANOL HIDRATADO (m3)</td>\n",
       "      <td>m3</td>\n",
       "      <td>501.460000</td>\n",
       "      <td>2023-03-26 10:47:25.967005</td>\n",
       "    </tr>\n",
       "    <tr>\n",
       "      <th>84</th>\n",
       "      <td>2000-1-01</td>\n",
       "      <td>ACRE</td>\n",
       "      <td>GLP (m3)</td>\n",
       "      <td>m3</td>\n",
       "      <td>1959.303636</td>\n",
       "      <td>2023-03-26 10:47:25.975630</td>\n",
       "    </tr>\n",
       "    <tr>\n",
       "      <th>9</th>\n",
       "      <td>2000-10-01</td>\n",
       "      <td>ACRE</td>\n",
       "      <td>GASOLINA C (m3)</td>\n",
       "      <td>m3</td>\n",
       "      <td>3225.610000</td>\n",
       "      <td>2023-03-26 10:47:25.913977</td>\n",
       "    </tr>\n",
       "    <tr>\n",
       "      <th>21</th>\n",
       "      <td>2000-10-01</td>\n",
       "      <td>ACRE</td>\n",
       "      <td>GASOLINA DE AVIAÇÃO (m3)</td>\n",
       "      <td>m3</td>\n",
       "      <td>46.455000</td>\n",
       "      <td>2023-03-26 10:47:25.923979</td>\n",
       "    </tr>\n",
       "  </tbody>\n",
       "</table>\n",
       "</div>"
      ],
      "text/plain": [
       "    year_month    uf                    product unit        volume  \\\n",
       "0    2000-1-01  ACRE            GASOLINA C (m3)   m3   3065.758000   \n",
       "12   2000-1-01  ACRE   GASOLINA DE AVIAÇÃO (m3)   m3     45.450000   \n",
       "24   2000-1-01  ACRE  QUEROSENE ILUMINANTE (m3)   m3      0.000000   \n",
       "36   2000-1-01  ACRE  QUEROSENE DE AVIAÇÃO (m3)   m3   1154.561000   \n",
       "48   2000-1-01  ACRE           ÓLEO DIESEL (m3)   m3  18025.337000   \n",
       "60   2000-1-01  ACRE      ÓLEO COMBUSTÍVEL (m3)   m3      0.000000   \n",
       "72   2000-1-01  ACRE      ETANOL HIDRATADO (m3)   m3    501.460000   \n",
       "84   2000-1-01  ACRE                   GLP (m3)   m3   1959.303636   \n",
       "9   2000-10-01  ACRE            GASOLINA C (m3)   m3   3225.610000   \n",
       "21  2000-10-01  ACRE   GASOLINA DE AVIAÇÃO (m3)   m3     46.455000   \n",
       "\n",
       "                   created_at  \n",
       "0  2023-03-26 10:47:25.897913  \n",
       "12 2023-03-26 10:47:25.917020  \n",
       "24 2023-03-26 10:47:25.927051  \n",
       "36 2023-03-26 10:47:25.939560  \n",
       "48 2023-03-26 10:47:25.949929  \n",
       "60 2023-03-26 10:47:25.959010  \n",
       "72 2023-03-26 10:47:25.967005  \n",
       "84 2023-03-26 10:47:25.975630  \n",
       "9  2023-03-26 10:47:25.913977  \n",
       "21 2023-03-26 10:47:25.923979  "
      ]
     },
     "execution_count": 18,
     "metadata": {},
     "output_type": "execute_result"
    }
   ],
   "source": [
    "df_final.head(10)"
   ]
  },
  {
   "attachments": {},
   "cell_type": "markdown",
   "metadata": {},
   "source": [
    "Enviando para o banco de dados schema = Final"
   ]
  },
  {
   "cell_type": "code",
   "execution_count": 19,
   "metadata": {},
   "outputs": [
    {
     "name": "stdout",
     "output_type": "stream",
     "text": [
      "Conexao realizada!\n"
     ]
    },
    {
     "data": {
      "text/plain": [
       "286"
      ]
     },
     "execution_count": 19,
     "metadata": {},
     "output_type": "execute_result"
    }
   ],
   "source": [
    "engine = conn_bd()\n",
    "df_final.to_sql(name='derivados_petroleo', con=engine, if_exists='append', index=False, schema='Final')"
   ]
  }
 ],
 "metadata": {
  "kernelspec": {
   "display_name": "Python 3",
   "language": "python",
   "name": "python3"
  },
  "language_info": {
   "codemirror_mode": {
    "name": "ipython",
    "version": 3
   },
   "file_extension": ".py",
   "mimetype": "text/x-python",
   "name": "python",
   "nbconvert_exporter": "python",
   "pygments_lexer": "ipython3",
   "version": "3.9.13"
  },
  "orig_nbformat": 4
 },
 "nbformat": 4,
 "nbformat_minor": 2
}
